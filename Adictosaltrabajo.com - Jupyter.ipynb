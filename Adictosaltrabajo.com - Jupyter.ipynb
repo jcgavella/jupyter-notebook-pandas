{
 "cells": [
  {
   "cell_type": "markdown",
   "metadata": {},
   "source": [
    "## ¿Qué es Jupyter?\n",
    "Jupyter es un entorno de trabajo que permite desarrollar código en Python (por defecto, aunque veremos más adelante como permitir otros lenguajes) de manera dinámica, a la vez que integrar en un mismo documento tanto bloques de código como texto, gráficas o imágenes. Es un SaaS utilizado ampliamente en análisis numérico, estadística y machine learning, entre otros campos de la informática y las matemáticas.\n",
    "\n",
    "* https://www.adictosaltrabajo.com/tutoriales/primeros-pasos-con-jupyter-notebook/\n",
    "* https://hub.mybinder.org/user/ipython-ipython-in-depth-crucjgf6/notebooks/binder/Index.ipynb\n",
    "* http://ipywidgets.readthedocs.io/en/latest/examples/Lorenz%20Differential%20Equations.html\n",
    "* https://github.com/jupyter-widgets/ipywidgets/blob/master/docs/source/examples/Lorenz%20Differential%20Equations.ipynb\n",
    "* https://jakevdp.github.io/blog/2013/02/16/animating-the-lorentz-system-in-3d/\n",
    "* http://intro.syzygy.ca/python-for-computing/\n",
    "* https://github.com/gjreda/gregreda.com/blob/master/content/notebooks/intro-to-pandas.ipynb\n",
    "* https://github.com/mnd-af/src/blob/master/2017/06/04/Uber%20Data%20Analysis.ipynb\n",
    "* https://github.com/fivethirtyeight/uber-tlc-foil-response (https://www.youtube.com/watch?v=Q73ADVZCqSU) (uber)"
   ]
  },
  {
   "cell_type": "markdown",
   "metadata": {},
   "source": [
    "### Instalación\n",
    "Lo primero que necesitamos es tener instalado Python 3, que podemos descargar de su __[web oficial](https://www.python.org/downloads/release/python-364/)__. Una vez hecho, actualizamos al gestor de paquetes de python vía\n",
    "\n",
    "    python3 -m pip install --upgrade pip\n",
    "y después instalamos Jupyter\n",
    "\n",
    "    pip3 install jupyter\n",
    "Cuando haya terminado de descargar, podemos arrancarlo con el comando\n",
    "\n",
    "    jupyter notebook\n",
    "Se abrirá una nueva ventana en nuestro navegador predefinido, y la terminal quedará bloqueada con el proceso. (Podemos abrirlo en otro navegador, para lo cual se nos indica la URL en la salida por pantalla).\n",
    "<img width=650px src='https://imgur.com/f2juR7n.png'>"
   ]
  },
  {
   "cell_type": "markdown",
   "metadata": {},
   "source": [
    "## Creando un cuaderno\n",
    "El workspace que abre Jupyter es nuestro home de usuario. Con el botón New, podemos crear:\n",
    "- Carpetas (recomendable para organizar todo).\n",
    "- Archivos de texto (con un editor bastante simple).\n",
    "- Terminales.\n",
    "- Cuadernos, que es la opción que vamos a estudiar en este tutorial.\n",
    "\n",
    "Cuando creamos un cuaderno, se nos abre en una pestaña nueva. La interfaz es muy sencilla, con una barra de menú y herramientas y una celda vacía, que es la unidad básica de trabajo con Jupyter. En una celda, podremos escribir una o varias líneas de código, y ejecutarla. También podemos escribir texto plano, y eliminar la celda del flujo de ejecución del cuaderno o hacer que se muestre de manera diferente si queremos que funcione como título, separador de sección, etc. Lo veremos más adelante.\n",
    "\n",
    "Es importante remarcar que tenemos dos modos de trabajo en Jupyter: \n",
    "- edición, que permite modificar el contenido de las celdas, como si fuera un editor de texto. La que tengamos seleccionada se muestra en verde. Podemos entrar en el mismo seleccionando una celda y pulsando _Enter_. \n",
    "<img src='https://imgur.com/burNHbh.png'>\n",
    "\n",
    "- mando, que nos permite ejecutar celdas o modificar el cuaderno y su estructura. La celda seleccionada se muestra en azul. Podemos volver al modo de mando pulsando _Esc_.\n",
    "<img src='https://imgur.com/b7I1thD.png'>\n",
    "\n",
    "Además, si ha habido un error en la ejecución de una celda, ésta aparece en color rojo.\n",
    "\n",
    "Para ejecutar una celda, haremos _Cmd + Enter_, o si queremos pasar automáticamente a la siguiente después de ejecutarla, podemos hacer _Shift + Enter_. Para saber cuándo una celda se ha ejecutado, está en ello o ya ha terminado, podemos mirar la cabecera de la celda:\n",
    "- Si solamente aparece In [ ], quiere decir que aún no se ha ejecutado.\n",
    "- Si lo que tenemos es In [\\*], entonces está en proceso de ejecución.\n",
    "- Si aparece un número entre los corchetes, ya ha terminado de ejecutar. La única _pega_ es que podemos haber hecho cambios posteriores a su ejecución, y esto no se indica de ninguna manera.\n",
    "\n",
    "Todos los atajos de teclado disponibles están en el botón <img  src='https://imgur.com/Jc0uZWC.png'>"
   ]
  },
  {
   "cell_type": "markdown",
   "metadata": {},
   "source": [
    "## Escribiendo código\n",
    "Es importante, a la par que evidente, tener instalados los paquetes de Python que queramos utilizar. Una vez hecho, podemos importarlos al cuaderno. Para los ejemplos utilizados en este tutorial, será necesario instalar los paquetes matplotlib, numpy y emoji. Recuerdo que la instalación de los mismos se hace igual que instalamos jupyter al principio del tutorial, es decir:\n",
    "\n",
    "    pip3 install matplotlib\n",
    "                    \n",
    "Podemos escribir cualquier tipo de algoritmo, como podría ser una búsqueda binaria:                    "
   ]
  },
  {
   "cell_type": "code",
   "execution_count": 18,
   "metadata": {
    "collapsed": true
   },
   "outputs": [],
   "source": [
    "def busqueda_binaria(array, valor):\n",
    "    ary = array\n",
    "    a = 0\n",
    "    b = len(array)\n",
    "    \n",
    "    while a < b:\n",
    "        m = (a + b) // 2\n",
    "\n",
    "        if array[m] == valor:\n",
    "            return m\n",
    "        elif array[m] < valor:\n",
    "            a = m + 1\n",
    "        else:\n",
    "            b = m\n",
    "            \n",
    "    return None\n",
    "\n",
    "x1 = [0,1,2,3,4,5,6,7]\n",
    "x2 = [1,4,8,12,41]\n",
    "x3 = [0,1,2,4,8,16,32]"
   ]
  },
  {
   "cell_type": "code",
   "execution_count": 19,
   "metadata": {},
   "outputs": [
    {
     "data": {
      "text/plain": [
       "3"
      ]
     },
     "execution_count": 19,
     "metadata": {},
     "output_type": "execute_result"
    }
   ],
   "source": [
    "busqueda_binaria(x1,3)"
   ]
  },
  {
   "cell_type": "code",
   "execution_count": 20,
   "metadata": {},
   "outputs": [
    {
     "data": {
      "text/plain": [
       "0"
      ]
     },
     "execution_count": 20,
     "metadata": {},
     "output_type": "execute_result"
    }
   ],
   "source": [
    "busqueda_binaria(x2,1)"
   ]
  },
  {
   "cell_type": "code",
   "execution_count": 21,
   "metadata": {
    "collapsed": true
   },
   "outputs": [],
   "source": [
    "busqueda_binaria(x2,3)"
   ]
  },
  {
   "cell_type": "code",
   "execution_count": 22,
   "metadata": {},
   "outputs": [
    {
     "data": {
      "text/plain": [
       "4"
      ]
     },
     "execution_count": 22,
     "metadata": {},
     "output_type": "execute_result"
    }
   ],
   "source": [
    "busqueda_binaria(x3,8)"
   ]
  },
  {
   "cell_type": "code",
   "execution_count": 23,
   "metadata": {},
   "outputs": [
    {
     "data": {
      "text/plain": [
       "1"
      ]
     },
     "execution_count": 23,
     "metadata": {},
     "output_type": "execute_result"
    }
   ],
   "source": [
    "busqueda_binaria(x3,1)"
   ]
  },
  {
   "cell_type": "markdown",
   "metadata": {},
   "source": [
    "### LaTeX\n",
    "Para mostrar código $\\LaTeX$ en nuestro cuaderno, simplemente tenemos que escribir entre dólares (simples o dobles, según queramos), y marcar la celda como texto plano (Markdown).\n",
    "\n",
    "<img src='https://imgur.com/05KXWTj.png'>"
   ]
  },
  {
   "cell_type": "markdown",
   "metadata": {},
   "source": [
    "### Otros lenguajes\n",
    "Para poder trabajar en Jupyter con otros lenguajes, se han desarrollado diferentes _kernels_. Los más utilizados, aparte del propio python, son:\n",
    "- Haskell: kernel _ihaskell_.\n",
    "- Javascript: kernel _ijavascript_.\n",
    "- Julia: kernel _ijulia_.\n",
    "\n",
    "Para añadirlos, debemos utilizar los siguientes comandos:\n",
    "\n",
    "    sudo add-apt-repository ppa:chronitis/jupyter\n",
    "    sudo apt-get update\n",
    "    sudo apt-get install nombre_del_kernel\n",
    "    \n",
    "Una vez instalados, simplemente seleccionamos el kernel deseado en la barra de menú de Jupyter.    "
   ]
  },
  {
   "cell_type": "markdown",
   "metadata": {},
   "source": [
    "## Gráficas\n",
    "\n",
    "La librería _matplotlib.pyplot_ nos ofrece multitud de opciones a la hora de trabajar con gráficas, desde pintar varias funciones en la misma figura, con diferentes colores o diseños, hasta indicar por ejemplo el máximo de una función."
   ]
  },
  {
   "cell_type": "code",
   "execution_count": 4,
   "metadata": {},
   "outputs": [
    {
     "data": {
      "image/png": "[encoded data removed]",
      "text/plain": [
       "<matplotlib.figure.Figure at 0x10a476748>"
      ]
     },
     "metadata": {},
     "output_type": "display_data"
    }
   ],
   "source": [
    "import matplotlib.pyplot as plt\n",
    "def pow(array,exp): return [x**exp for x in array]\n",
    "\n",
    "x = [1, 2, 3, 4]\n",
    "\n",
    "plt.plot(x, x, 'r^', x, pow(x,2), 'gs', x, pow(x, 3), 'bo')\n",
    "plt.show()"
   ]
  },
  {
   "cell_type": "code",
   "execution_count": 5,
   "metadata": {},
   "outputs": [
    {
     "data": {
      "image/png": "[encoded data removed]",
      "text/plain": [
       "<matplotlib.figure.Figure at 0x11173b748>"
      ]
     },
     "metadata": {},
     "output_type": "display_data"
    }
   ],
   "source": [
    "import numpy as np\n",
    "\n",
    "x_data = np.arange(-5, 6)\n",
    "y_data = 5 - np.absolute(x_data)\n",
    "\n",
    "plt.plot(x_data, y_data)\n",
    "plt.annotate('máx', xy=(0, 5), xytext=(2, 4.5), arrowprops=dict(facecolor='red', shrink=0.005))\n",
    "plt.show()"
   ]
  },
  {
   "cell_type": "markdown",
   "metadata": {},
   "source": [
    "## Texto\n",
    "Varias cositas referentes a la escritura de texto plano:\n",
    "- Como se ha mencionado antes, se debe indicar que el tipo de celda es Markdown.\n",
    "- Podemos separar el contenido del documento con cabeceras para secciones, subsecciones, subsubsecciones… Es tan fácil como añadir de una a cinco almohadillas (#) al principio de la línea, tantas como el nivel que queramos tenga el título.\n",
    "<img width=400px src='https://imgur.com/eIlgGHr.png'>\n",
    "- Podemos añadir imágenes, indicando anchura, alineación, etc., con el comando \n",
    "\n",
    "        <img src=‘…’ width=000px align= ... >\n",
    "\n",
    "- Si queremos mostrar una lista, con _guión+espacio_ se formateará correctamente.\n",
    "- ¡Podemos incluso añadir emojis!"
   ]
  },
  {
   "cell_type": "code",
   "execution_count": 2,
   "metadata": {},
   "outputs": [
    {
     "name": "stdout",
     "output_type": "stream",
     "text": [
      "Adictosaltrabajo mola! 😉\n"
     ]
    }
   ],
   "source": [
    "import emoji\n",
    "print(emoji.emojize('Adictosaltrabajo mola! :winking_face:'))"
   ]
  },
  {
   "cell_type": "markdown",
   "metadata": {},
   "source": [
    "## Conclusiones\n",
    "Como podemos ver, Jupyter es una herramienta bastante completa, que nos permite crear documentos que combinen código ejecutable, representaciones gráficas de su ejecución y texto plano. También es muy sencillo de utilizar (siempre y cuando ya sepas programar en Python, claro), así que ¿a qué esperas?\n"
   ]
  }
 ],
 "metadata": {
  "kernelspec": {
   "display_name": "Python 3",
   "language": "python",
   "name": "python3"
  },
  "language_info": {
   "codemirror_mode": {
    "name": "ipython",
    "version": 3
   },
   "file_extension": ".py",
   "mimetype": "text/x-python",
   "name": "python",
   "nbconvert_exporter": "python",
   "pygments_lexer": "ipython3",
   "version": "3.5.2"
  }
 },
 "nbformat": 4,
 "nbformat_minor": 2
}
